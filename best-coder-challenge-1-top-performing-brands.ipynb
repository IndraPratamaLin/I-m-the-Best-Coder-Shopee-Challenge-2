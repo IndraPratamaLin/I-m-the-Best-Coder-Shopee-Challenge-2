{
 "cells": [
  {
   "cell_type": "code",
   "execution_count": 1,
   "metadata": {
    "_cell_guid": "b1076dfc-b9ad-4769-8c92-a6c4dae69d19",
    "_uuid": "8f2839f25d086af736a60e9eeb907d3b93b6e0e5"
   },
   "outputs": [],
   "source": [
    "import numpy as np # linear algebra\n",
    "import pandas as pd # data processing, CSV file I/O (e.g. pd.read_csv)\n",
    "\n",
    "import warnings\n",
    "warnings.filterwarnings('ignore')\n",
    "\n",
    "import os"
   ]
  },
  {
   "cell_type": "code",
   "execution_count": 2,
   "metadata": {},
   "outputs": [
    {
     "name": "stdout",
     "output_type": "stream",
     "text": [
      "brand_shoptype shape: (190754, 3)\n",
      "transaction shape: (1048575, 6)\n"
     ]
    }
   ],
   "source": [
    "brand_shoptype = pd.read_csv('/kaggle/input/ptr-rd1/Extra_material_2.csv')\n",
    "transaction = pd.read_csv('/kaggle/input/ptr-rd1/Extra_material_3.csv', parse_dates=['date_id'])\n",
    "\n",
    "print('brand_shoptype shape:', brand_shoptype.shape)\n",
    "print('transaction shape:', transaction.shape)"
   ]
  },
  {
   "cell_type": "code",
   "execution_count": 3,
   "metadata": {},
   "outputs": [],
   "source": [
    "all_brands = np.sort(brand_shoptype.brand.unique())"
   ]
  },
  {
   "cell_type": "markdown",
   "execution_count": null,
   "metadata": {},
   "source": [
    "## Task\n",
    "\n",
    "Write a function(s) that takes in a brand as an input and answer the following question:\n",
    "\n",
    "> ### The Top 3 itemids (in a list) from the ‘Official Shop’ of that particular brand that generated the highest Gross Sales Revenue from 10th May to 31st May 2019.\n",
    "\n",
    "Note: Not all brands will have 3 itemids, in cases where there are none output should return N.A"
   ]
  },
  {
   "cell_type": "code",
   "execution_count": 4,
   "metadata": {
    "_cell_guid": "79c7e3d0-c299-4dcb-8224-4455121ee9b0",
    "_uuid": "d629ff2d2480ee46fbb7e2d37f6b5fab8052498a"
   },
   "outputs": [],
   "source": [
    "# filter only official shop\n",
    "brand_shoptype = brand_shoptype[brand_shoptype['shop_type'] == 'Official Shop']\n",
    "\n",
    "brand_shoptype['shop_id'] = brand_shoptype['shop_id'].astype(int)"
   ]
  },
  {
   "cell_type": "code",
   "execution_count": 5,
   "metadata": {},
   "outputs": [],
   "source": [
    "# filter only transaction from 10th May to 31st May\n",
    "start_date = '2019-5-10'\n",
    "end_date = '2019-5-31'\n",
    "\n",
    "mask = (transaction['date_id'] >= start_date) & (transaction['date_id'] <= end_date)\n",
    "\n",
    "transaction = transaction.loc[mask]"
   ]
  },
  {
   "cell_type": "code",
   "execution_count": 6,
   "metadata": {},
   "outputs": [],
   "source": [
    "# drop duplicates row\n",
    "transaction.drop_duplicates(inplace=True)\n",
    "brand_shoptype.drop_duplicates(inplace=True)"
   ]
  },
  {
   "cell_type": "markdown",
   "execution_count": null,
   "metadata": {},
   "source": [
    "* If you check, you'll found 'Anessa, Senka, Za, Tsubaki, Ma Cherie' in brand unique values\n",
    "* I decided to drop this so that every shop_id only have 1 brand, not mix"
   ]
  },
  {
   "cell_type": "code",
   "execution_count": 7,
   "metadata": {},
   "outputs": [],
   "source": [
    "error_idx = brand_shoptype[brand_shoptype['brand'] == 'Anessa, Senka, Za, Tsubaki, Ma Cherie'].index\n",
    "\n",
    "brand_shoptype.drop(error_idx, inplace=True)"
   ]
  },
  {
   "cell_type": "code",
   "execution_count": 8,
   "metadata": {},
   "outputs": [],
   "source": [
    "# filter only shop_id which is exist in transaction\n",
    "brand_shoptype = brand_shoptype[brand_shoptype['shop_id'].isin(transaction['shopid'])]"
   ]
  },
  {
   "cell_type": "code",
   "execution_count": 9,
   "metadata": {},
   "outputs": [
    {
     "data": {
      "text/html": [
       "<div>\n",
       "<style scoped>\n",
       "    .dataframe tbody tr th:only-of-type {\n",
       "        vertical-align: middle;\n",
       "    }\n",
       "\n",
       "    .dataframe tbody tr th {\n",
       "        vertical-align: top;\n",
       "    }\n",
       "\n",
       "    .dataframe thead th {\n",
       "        text-align: right;\n",
       "    }\n",
       "</style>\n",
       "<table border=\"1\" class=\"dataframe\">\n",
       "  <thead>\n",
       "    <tr style=\"text-align: right;\">\n",
       "      <th></th>\n",
       "      <th>shop_id</th>\n",
       "      <th>brand</th>\n",
       "      <th>shop_type</th>\n",
       "    </tr>\n",
       "  </thead>\n",
       "  <tbody>\n",
       "    <tr>\n",
       "      <th>49</th>\n",
       "      <td>64903618</td>\n",
       "      <td>Harman Kardon</td>\n",
       "      <td>Official Shop</td>\n",
       "    </tr>\n",
       "    <tr>\n",
       "      <th>89</th>\n",
       "      <td>58542133</td>\n",
       "      <td>Sabina</td>\n",
       "      <td>Official Shop</td>\n",
       "    </tr>\n",
       "    <tr>\n",
       "      <th>102</th>\n",
       "      <td>75810249</td>\n",
       "      <td>Bosch</td>\n",
       "      <td>Official Shop</td>\n",
       "    </tr>\n",
       "    <tr>\n",
       "      <th>113</th>\n",
       "      <td>66829677</td>\n",
       "      <td>Nokia</td>\n",
       "      <td>Official Shop</td>\n",
       "    </tr>\n",
       "    <tr>\n",
       "      <th>131</th>\n",
       "      <td>82301700</td>\n",
       "      <td>The Body Shop</td>\n",
       "      <td>Official Shop</td>\n",
       "    </tr>\n",
       "  </tbody>\n",
       "</table>\n",
       "</div>"
      ],
      "text/plain": [
       "      shop_id          brand      shop_type\n",
       "49   64903618  Harman Kardon  Official Shop\n",
       "89   58542133         Sabina  Official Shop\n",
       "102  75810249          Bosch  Official Shop\n",
       "113  66829677          Nokia  Official Shop\n",
       "131  82301700  The Body Shop  Official Shop"
      ]
     },
     "execution_count": 9,
     "metadata": {},
     "output_type": "execute_result"
    }
   ],
   "source": [
    "brand_shoptype.head()"
   ]
  },
  {
   "cell_type": "code",
   "execution_count": 10,
   "metadata": {},
   "outputs": [
    {
     "data": {
      "text/html": [
       "<div>\n",
       "<style scoped>\n",
       "    .dataframe tbody tr th:only-of-type {\n",
       "        vertical-align: middle;\n",
       "    }\n",
       "\n",
       "    .dataframe tbody tr th {\n",
       "        vertical-align: top;\n",
       "    }\n",
       "\n",
       "    .dataframe thead th {\n",
       "        text-align: right;\n",
       "    }\n",
       "</style>\n",
       "<table border=\"1\" class=\"dataframe\">\n",
       "  <thead>\n",
       "    <tr style=\"text-align: right;\">\n",
       "      <th></th>\n",
       "      <th>orderid</th>\n",
       "      <th>itemid</th>\n",
       "      <th>date_id</th>\n",
       "      <th>amount</th>\n",
       "      <th>item_price_usd</th>\n",
       "      <th>shopid</th>\n",
       "    </tr>\n",
       "  </thead>\n",
       "  <tbody>\n",
       "    <tr>\n",
       "      <th>0</th>\n",
       "      <td>1316773501</td>\n",
       "      <td>1355135789</td>\n",
       "      <td>2019-05-16</td>\n",
       "      <td>1</td>\n",
       "      <td>5.483204</td>\n",
       "      <td>65948755</td>\n",
       "    </tr>\n",
       "    <tr>\n",
       "      <th>1</th>\n",
       "      <td>1316774684</td>\n",
       "      <td>1257902741</td>\n",
       "      <td>2019-05-16</td>\n",
       "      <td>1</td>\n",
       "      <td>0.387050</td>\n",
       "      <td>61364537</td>\n",
       "    </tr>\n",
       "    <tr>\n",
       "      <th>2</th>\n",
       "      <td>1316803330</td>\n",
       "      <td>2126770455</td>\n",
       "      <td>2019-05-16</td>\n",
       "      <td>1</td>\n",
       "      <td>0.344044</td>\n",
       "      <td>4980129</td>\n",
       "    </tr>\n",
       "    <tr>\n",
       "      <th>3</th>\n",
       "      <td>1317196434</td>\n",
       "      <td>2112999088</td>\n",
       "      <td>2019-05-16</td>\n",
       "      <td>1</td>\n",
       "      <td>6.704561</td>\n",
       "      <td>29089750</td>\n",
       "    </tr>\n",
       "    <tr>\n",
       "      <th>4</th>\n",
       "      <td>1318105348</td>\n",
       "      <td>1832131969</td>\n",
       "      <td>2019-05-16</td>\n",
       "      <td>1</td>\n",
       "      <td>5.354187</td>\n",
       "      <td>94372493</td>\n",
       "    </tr>\n",
       "  </tbody>\n",
       "</table>\n",
       "</div>"
      ],
      "text/plain": [
       "      orderid      itemid    date_id  amount  item_price_usd    shopid\n",
       "0  1316773501  1355135789 2019-05-16       1        5.483204  65948755\n",
       "1  1316774684  1257902741 2019-05-16       1        0.387050  61364537\n",
       "2  1316803330  2126770455 2019-05-16       1        0.344044   4980129\n",
       "3  1317196434  2112999088 2019-05-16       1        6.704561  29089750\n",
       "4  1318105348  1832131969 2019-05-16       1        5.354187  94372493"
      ]
     },
     "execution_count": 10,
     "metadata": {},
     "output_type": "execute_result"
    }
   ],
   "source": [
    "transaction.head()"
   ]
  },
  {
   "cell_type": "code",
   "execution_count": 11,
   "metadata": {},
   "outputs": [
    {
     "data": {
      "text/plain": [
       "shop_id\n",
       "64903618    2\n",
       "61963112    2\n",
       "75810249    2\n",
       "35284879    2\n",
       "52679373    1\n",
       "Name: brand, dtype: int64"
      ]
     },
     "execution_count": 11,
     "metadata": {},
     "output_type": "execute_result"
    }
   ],
   "source": [
    "# there are 4 shop_id that have 2 brands\n",
    "brand_shoptype.groupby('shop_id')['brand'].nunique().sort_values(ascending=False)[:5]"
   ]
  },
  {
   "cell_type": "code",
   "execution_count": 12,
   "metadata": {},
   "outputs": [
    {
     "data": {
      "text/html": [
       "<div>\n",
       "<style scoped>\n",
       "    .dataframe tbody tr th:only-of-type {\n",
       "        vertical-align: middle;\n",
       "    }\n",
       "\n",
       "    .dataframe tbody tr th {\n",
       "        vertical-align: top;\n",
       "    }\n",
       "\n",
       "    .dataframe thead th {\n",
       "        text-align: right;\n",
       "    }\n",
       "</style>\n",
       "<table border=\"1\" class=\"dataframe\">\n",
       "  <thead>\n",
       "    <tr style=\"text-align: right;\">\n",
       "      <th></th>\n",
       "      <th>shop_id</th>\n",
       "      <th>brand</th>\n",
       "      <th>shop_type</th>\n",
       "      <th>orderid</th>\n",
       "      <th>itemid</th>\n",
       "      <th>date_id</th>\n",
       "      <th>amount</th>\n",
       "      <th>item_price_usd</th>\n",
       "    </tr>\n",
       "  </thead>\n",
       "  <tbody>\n",
       "    <tr>\n",
       "      <th>0</th>\n",
       "      <td>64903618</td>\n",
       "      <td>Harman Kardon</td>\n",
       "      <td>Official Shop</td>\n",
       "      <td>1321879298</td>\n",
       "      <td>1921091854</td>\n",
       "      <td>2019-05-16</td>\n",
       "      <td>1</td>\n",
       "      <td>59.777675</td>\n",
       "    </tr>\n",
       "    <tr>\n",
       "      <th>1</th>\n",
       "      <td>58542133</td>\n",
       "      <td>Sabina</td>\n",
       "      <td>Official Shop</td>\n",
       "      <td>1321039647</td>\n",
       "      <td>1787516454</td>\n",
       "      <td>2019-05-16</td>\n",
       "      <td>1</td>\n",
       "      <td>7.246430</td>\n",
       "    </tr>\n",
       "    <tr>\n",
       "      <th>2</th>\n",
       "      <td>58542133</td>\n",
       "      <td>Sabina</td>\n",
       "      <td>Official Shop</td>\n",
       "      <td>1319191755</td>\n",
       "      <td>1618557460</td>\n",
       "      <td>2019-05-16</td>\n",
       "      <td>1</td>\n",
       "      <td>7.074408</td>\n",
       "    </tr>\n",
       "    <tr>\n",
       "      <th>3</th>\n",
       "      <td>58542133</td>\n",
       "      <td>Sabina</td>\n",
       "      <td>Official Shop</td>\n",
       "      <td>1375827952</td>\n",
       "      <td>1755241806</td>\n",
       "      <td>2019-05-29</td>\n",
       "      <td>1</td>\n",
       "      <td>9.203182</td>\n",
       "    </tr>\n",
       "    <tr>\n",
       "      <th>4</th>\n",
       "      <td>58542133</td>\n",
       "      <td>Sabina</td>\n",
       "      <td>Official Shop</td>\n",
       "      <td>1375901974</td>\n",
       "      <td>1648157592</td>\n",
       "      <td>2019-05-29</td>\n",
       "      <td>1</td>\n",
       "      <td>7.074408</td>\n",
       "    </tr>\n",
       "  </tbody>\n",
       "</table>\n",
       "</div>"
      ],
      "text/plain": [
       "    shop_id          brand      shop_type     orderid      itemid    date_id  \\\n",
       "0  64903618  Harman Kardon  Official Shop  1321879298  1921091854 2019-05-16   \n",
       "1  58542133         Sabina  Official Shop  1321039647  1787516454 2019-05-16   \n",
       "2  58542133         Sabina  Official Shop  1319191755  1618557460 2019-05-16   \n",
       "3  58542133         Sabina  Official Shop  1375827952  1755241806 2019-05-29   \n",
       "4  58542133         Sabina  Official Shop  1375901974  1648157592 2019-05-29   \n",
       "\n",
       "   amount  item_price_usd  \n",
       "0       1       59.777675  \n",
       "1       1        7.246430  \n",
       "2       1        7.074408  \n",
       "3       1        9.203182  \n",
       "4       1        7.074408  "
      ]
     },
     "execution_count": 12,
     "metadata": {},
     "output_type": "execute_result"
    }
   ],
   "source": [
    "transaction.rename(columns={'shopid': 'shop_id'}, inplace=True)\n",
    "\n",
    "final_df = brand_shoptype.merge(transaction, on='shop_id', how='left')\n",
    "\n",
    "final_df.head()"
   ]
  },
  {
   "cell_type": "code",
   "execution_count": 13,
   "metadata": {},
   "outputs": [],
   "source": [
    "final_df['gross_sales_revenue'] = final_df['amount'].values * final_df['item_price_usd'].values"
   ]
  },
  {
   "cell_type": "code",
   "execution_count": 14,
   "metadata": {},
   "outputs": [
    {
     "data": {
      "text/html": [
       "<div>\n",
       "<style scoped>\n",
       "    .dataframe tbody tr th:only-of-type {\n",
       "        vertical-align: middle;\n",
       "    }\n",
       "\n",
       "    .dataframe tbody tr th {\n",
       "        vertical-align: top;\n",
       "    }\n",
       "\n",
       "    .dataframe thead th {\n",
       "        text-align: right;\n",
       "    }\n",
       "</style>\n",
       "<table border=\"1\" class=\"dataframe\">\n",
       "  <thead>\n",
       "    <tr style=\"text-align: right;\">\n",
       "      <th></th>\n",
       "      <th>shop_id</th>\n",
       "      <th>brand</th>\n",
       "      <th>shop_type</th>\n",
       "      <th>orderid</th>\n",
       "      <th>itemid</th>\n",
       "      <th>date_id</th>\n",
       "      <th>amount</th>\n",
       "      <th>item_price_usd</th>\n",
       "      <th>gross_sales_revenue</th>\n",
       "    </tr>\n",
       "  </thead>\n",
       "  <tbody>\n",
       "    <tr>\n",
       "      <th>3702</th>\n",
       "      <td>61792033</td>\n",
       "      <td>Durex</td>\n",
       "      <td>Official Shop</td>\n",
       "      <td>1377246974</td>\n",
       "      <td>1031991803</td>\n",
       "      <td>2019-05-29</td>\n",
       "      <td>1</td>\n",
       "      <td>1.247160</td>\n",
       "      <td>1.247160</td>\n",
       "    </tr>\n",
       "    <tr>\n",
       "      <th>6721</th>\n",
       "      <td>111139273</td>\n",
       "      <td>Yves Rocher</td>\n",
       "      <td>Official Shop</td>\n",
       "      <td>1368165371</td>\n",
       "      <td>1719453404</td>\n",
       "      <td>2019-05-27</td>\n",
       "      <td>1</td>\n",
       "      <td>12.875853</td>\n",
       "      <td>12.875853</td>\n",
       "    </tr>\n",
       "    <tr>\n",
       "      <th>7285</th>\n",
       "      <td>89960894</td>\n",
       "      <td>P&amp;G</td>\n",
       "      <td>Official Shop</td>\n",
       "      <td>1360440330</td>\n",
       "      <td>2054825465</td>\n",
       "      <td>2019-05-25</td>\n",
       "      <td>1</td>\n",
       "      <td>4.472574</td>\n",
       "      <td>4.472574</td>\n",
       "    </tr>\n",
       "    <tr>\n",
       "      <th>8322</th>\n",
       "      <td>52679373</td>\n",
       "      <td>Logitech</td>\n",
       "      <td>Official Shop</td>\n",
       "      <td>1375433541</td>\n",
       "      <td>952669750</td>\n",
       "      <td>2019-05-29</td>\n",
       "      <td>1</td>\n",
       "      <td>2.537326</td>\n",
       "      <td>2.537326</td>\n",
       "    </tr>\n",
       "    <tr>\n",
       "      <th>5473</th>\n",
       "      <td>78546729</td>\n",
       "      <td>Johnson &amp; Johnson</td>\n",
       "      <td>Official Shop</td>\n",
       "      <td>1333138765</td>\n",
       "      <td>1620690807</td>\n",
       "      <td>2019-05-19</td>\n",
       "      <td>1</td>\n",
       "      <td>4.257547</td>\n",
       "      <td>4.257547</td>\n",
       "    </tr>\n",
       "  </tbody>\n",
       "</table>\n",
       "</div>"
      ],
      "text/plain": [
       "        shop_id              brand      shop_type     orderid      itemid  \\\n",
       "3702   61792033              Durex  Official Shop  1377246974  1031991803   \n",
       "6721  111139273        Yves Rocher  Official Shop  1368165371  1719453404   \n",
       "7285   89960894                P&G  Official Shop  1360440330  2054825465   \n",
       "8322   52679373           Logitech  Official Shop  1375433541   952669750   \n",
       "5473   78546729  Johnson & Johnson  Official Shop  1333138765  1620690807   \n",
       "\n",
       "        date_id  amount  item_price_usd  gross_sales_revenue  \n",
       "3702 2019-05-29       1        1.247160             1.247160  \n",
       "6721 2019-05-27       1       12.875853            12.875853  \n",
       "7285 2019-05-25       1        4.472574             4.472574  \n",
       "8322 2019-05-29       1        2.537326             2.537326  \n",
       "5473 2019-05-19       1        4.257547             4.257547  "
      ]
     },
     "execution_count": 14,
     "metadata": {},
     "output_type": "execute_result"
    }
   ],
   "source": [
    "final_df.sample(5)"
   ]
  },
  {
   "cell_type": "markdown",
   "execution_count": null,
   "metadata": {},
   "source": [
    "## Task (look again for better understanding)\n",
    "\n",
    "Write a function(s) that takes in a brand as an input and answer the following question:\n",
    "\n",
    "> ### The Top 3 itemids (in a list) from the ‘Official Shop’ of that particular brand that generated the highest Gross Sales Revenue from 10th May to 31st May 2019.\n",
    "\n",
    "Note: Not all brands will have 3 itemids, in cases where there are none output should return N.A"
   ]
  },
  {
   "cell_type": "code",
   "execution_count": 15,
   "metadata": {},
   "outputs": [],
   "source": [
    "for_submission = pd.DataFrame({})\n",
    "\n",
    "for_submission['Index'] = range(1, len(all_brands) + 1)\n",
    "for_submission['Answers'] = ''\n",
    "\n",
    "for idx, brand in enumerate(all_brands):\n",
    "    result = final_df[final_df['brand'] == brand].groupby('itemid')['gross_sales_revenue'].sum().rename('gross_sales').sort_values(ascending=False)[:3].reset_index()\n",
    "    if len(result['itemid']) > 0:\n",
    "        for_submission.at[idx, 'Answers'] += (str(brand) + ', ')\n",
    "        for itemid in result['itemid']:\n",
    "            for_submission.at[idx, 'Answers'] += (str(itemid) + ', ')\n",
    "    else:\n",
    "        for_submission.at[idx, 'Answers'] += (str(brand) + ', N.A,,')\n",
    "        \n",
    "for_submission['Answers'] = for_submission['Answers'].apply(lambda x: x[:-2])"
   ]
  },
  {
   "cell_type": "code",
   "execution_count": 16,
   "metadata": {},
   "outputs": [],
   "source": [
    "for_submission.to_csv('submission1.csv', index=False)"
   ]
  },
  {
   "cell_type": "markdown",
   "execution_count": null,
   "metadata": {},
   "source": [
    "## Result:\n",
    "\n",
    "* This submission only get 0.88888 in Public Score\n",
    "* But got 0.97119 in Private Score"
   ]
  }
 ],
 "metadata": {
  "kernelspec": {
   "display_name": "Python 3",
   "language": "python",
   "name": "python3"
  },
  "language_info": {
   "codemirror_mode": {
    "name": "ipython",
    "version": 3
   },
   "file_extension": ".py",
   "mimetype": "text/x-python",
   "name": "python",
   "nbconvert_exporter": "python",
   "pygments_lexer": "ipython3",
   "version": "3.7.6"
  }
 },
 "nbformat": 4,
 "nbformat_minor": 4
}
